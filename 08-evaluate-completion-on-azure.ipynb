{
 "cells": [
  {
   "cell_type": "markdown",
   "metadata": {},
   "source": [
    "# **Evaluate AI Agent on Azure**\n",
    "\n",
    "In this notebook, we focus on **evaluating the AI agent using Azure services**. This involves importing the required libraries, loading the necessary configurations, performing evaluations using Azure AI services, and analyzing the results.\n",
    "\n",
    "### Objectives:\n",
    "- **Import Libraries:** Import the necessary libraries for evaluation.\n",
    "- **Load Configurations:** Load the necessary configurations from the environment file.\n",
    "- **Perform Evaluation:** Use your LLM judge to evaluate the AI agent.\n",
    "- **Analyze Results:** Analyze the evaluation results to gain insights into the AI agent's performance.\n",
    "\n",
    "### Key Steps:\n",
    "1. **Import Libraries:** Import the necessary libraries for evaluation.\n",
    "2. **Load Configurations:** Load the necessary configurations from the environment file.\n",
    "3. **Perform Evaluation:** Use your LLM jduge to evaluate the AI agent.\n",
    "4. **Analyze Results:** Analyze the evaluation results to gain insights into the AI agent's performance.\n",
    "\n",
    "This notebook ensures that the AI agent is evaluated effectively using your LLM judge, providing insights into its performance and areas for improvement."
   ]
  },
  {
   "cell_type": "code",
   "execution_count": null,
   "metadata": {},
   "outputs": [
    {
     "data": {
      "text/plain": [
       "True"
      ]
     },
     "execution_count": 1,
     "metadata": {},
     "output_type": "execute_result"
    }
   ],
   "source": [
    "from azure.ai.evaluation import evaluate\n",
    "from azure.identity import DefaultAzureCredential\n",
    "\n",
    "import pandas as pd\n",
    "import numpy as np\n",
    "\n",
    "import json\n",
    "import os\n",
    "import datetime\n",
    "\n",
    "from azure.identity import DefaultAzureCredential, get_bearer_token_provider\n",
    "from openai import AzureOpenAI\n",
    "\n",
    "import dotenv\n",
    "dotenv.load_dotenv(\".env\")"
   ]
  },
  {
   "cell_type": "code",
   "execution_count": null,
   "metadata": {},
   "outputs": [],
   "source": [
    "aoai_endpoint=os.environ[\"AZURE_OPENAI_API_BASE\"]\n",
    "aoai_api_key=os.environ[\"AZURE_OPENAI_API_KEY\"]\n",
    "aoai_chat_model_mini=os.environ[\"AZURE_OPENAI_MODEL_MINI\"]\n",
    "llm_judge=os.environ[\"LLM_JUDGE\"]\n",
    "aoai_api_version=os.environ[\"AZURE_OPENAI_API_VERSION\"]"
   ]
  },
  {
   "cell_type": "markdown",
   "metadata": {},
   "source": [
    "**Transform data to correct format**\n",
    "- Just for demonstration test-data is transformed to evaluation data"
   ]
  },
  {
   "cell_type": "code",
   "execution_count": 4,
   "metadata": {},
   "outputs": [],
   "source": [
    "import pandas as pd\n",
    "\n",
    "# Load the CSV file into a DataFrame\n",
    "fpath = 'data/agent-output/testtest.csv'\n",
    "df = pd.read_csv(fpath)\n",
    "\n",
    "df_subset = df[['synthetic_question', 'chunk_data', 'synthetic_response']].rename(\n",
    "    columns={\n",
    "        'synthetic_question': 'query',\n",
    "        'chunk_data': 'context',\n",
    "        'synthetic_response': 'response'\n",
    "    }\n",
    ")\n",
    "\n",
    "# Export the DataFrame to a JSONL file.\n",
    "jsonl_path = 'data/agent-output/testtest.jsonl'\n",
    "df_subset.to_json(jsonl_path, orient='records', lines=True)\n"
   ]
  },
  {
   "cell_type": "markdown",
   "metadata": {},
   "source": [
    "**Run evaluation and upload results to AI Foundry**"
   ]
  },
  {
   "cell_type": "code",
   "execution_count": 5,
   "metadata": {},
   "outputs": [],
   "source": [
    "def get_model_config(eval_model=llm_judge):\n",
    "    return {\n",
    "        \"azure_endpoint\": aoai_endpoint,\n",
    "        \"api_key\": aoai_api_key,\n",
    "        \"azure_deployment\": eval_model,\n",
    "        \"api_version\": aoai_api_version\n",
    "    }"
   ]
  },
  {
   "cell_type": "code",
   "execution_count": 6,
   "metadata": {},
   "outputs": [],
   "source": [
    "def load_config(eval_model=llm_judge):\n",
    "    credential = DefaultAzureCredential()\n",
    "\n",
    "    model_config = get_model_config(eval_model)\n",
    "\n",
    "    # Initialize Azure AI project and Azure OpenAI conncetion with your environment variables\n",
    "    azure_ai_project = {\n",
    "        \"subscription_id\": os.environ[\"SUB_ID\"],\n",
    "        \"resource_group_name\": os.environ[\"RG_NAME\"],\n",
    "        \"project_name\": os.environ[\"AZURE_PROJECT_NAME\"],\n",
    "    }\n",
    "    return azure_ai_project, model_config, credential"
   ]
  },
  {
   "cell_type": "code",
   "execution_count": 7,
   "metadata": {},
   "outputs": [],
   "source": [
    "def run_eval_on_azure(azure_ai_project, custom_groundedness, model_name, path):\n",
    "    now = datetime.datetime.now()\n",
    "    result = evaluate(\n",
    "        evaluation_name = f\"custom-groundedness-{model_name}-{now.strftime('%Y-%m-%d-%H-%M-%S')}\",\n",
    "        data=path,\n",
    "        evaluators={\n",
    "            \"custom_groundedness_0_1\": custom_groundedness,\n",
    "        },\n",
    "        # column mapping\n",
    "        evaluator_config={\n",
    "            \"custom_groundedness\": {\n",
    "                \"column_mapping\": {\n",
    "                    \"query\": \"${data.query}\",\n",
    "                    \"context\": \"${data.context}\",\n",
    "                    \"response\": \"${data.response}\"\n",
    "                }\n",
    "            }\n",
    "        },\n",
    "        azure_ai_project = azure_ai_project,\n",
    "        # output_path=\"./myevalresults.json\"\n",
    "    )\n"
   ]
  },
  {
   "cell_type": "code",
   "execution_count": 8,
   "metadata": {},
   "outputs": [
    {
     "name": "stderr",
     "output_type": "stream",
     "text": [
      "[nltk_data] Downloading package punkt to\n",
      "[nltk_data]     C:\\Users\\povelf\\AppData\\Roaming\\nltk_data...\n",
      "[nltk_data]   Package punkt is already up-to-date!\n",
      "[2025-02-08 21:51:07 +0100][promptflow._core.entry_meta_generator][WARNING] - Generate meta in current process and timeout won't take effect. Please handle timeout manually outside current process.\n",
      "[2025-02-08 21:51:07 +0100][promptflow._sdk._orchestrator.run_submitter][INFO] - Submitting run evaluators_aoai_custom_groundedness_customgroundednessevaluator_ql67as7j_20250208_215106_870650, log path: C:\\Users\\povelf\\.promptflow\\.runs\\evaluators_aoai_custom_groundedness_customgroundednessevaluator_ql67as7j_20250208_215106_870650\\logs.txt\n"
     ]
    },
    {
     "name": "stdout",
     "output_type": "stream",
     "text": [
      "Prompt flow service has started...\n",
      "You can view the traces in local from http://127.0.0.1:23333/v1.0/ui/traces/?#run=evaluators_aoai_custom_groundedness_customgroundednessevaluator_ql67as7j_20250208_215106_870650\n",
      "2025-02-08 21:51:07 +0100   79816 execution.bulk     INFO     Current thread is not main thread, skip signal handler registration in BatchEngine.\n",
      "2025-02-08 21:51:07 +0100   79816 execution.bulk     INFO     The timeout for the batch run is 3600 seconds.\n",
      "2025-02-08 21:51:07 +0100   79816 execution.bulk     INFO     Current system's available memory is 9745.91015625MB, memory consumption of current process is 294.91015625MB, estimated available worker count is 9745.91015625/294.91015625 = 33\n",
      "2025-02-08 21:51:07 +0100   79816 execution.bulk     INFO     Set process count to 4 by taking the minimum value among the factors of {'default_worker_count': 4, 'row_count': 50, 'estimated_worker_count_based_on_memory_usage': 33}.\n",
      "2025-02-08 21:51:15 +0100   79816 execution.bulk     INFO     Process name(SpawnProcess-3)-Process id(43552)-Line number(0) start execution.\n",
      "2025-02-08 21:51:15 +0100   79816 execution.bulk     INFO     Process name(SpawnProcess-2)-Process id(2504)-Line number(1) start execution.\n",
      "2025-02-08 21:51:15 +0100   79816 execution.bulk     INFO     Process name(SpawnProcess-4)-Process id(70840)-Line number(2) start execution.\n",
      "2025-02-08 21:51:15 +0100   79816 execution.bulk     INFO     Process name(SpawnProcess-5)-Process id(78944)-Line number(3) start execution.\n",
      "2025-02-08 21:51:19 +0100   79816 execution.bulk     INFO     Process name(SpawnProcess-2)-Process id(2504)-Line number(1) completed.\n",
      "2025-02-08 21:51:19 +0100   79816 execution.bulk     INFO     Process name(SpawnProcess-2)-Process id(2504)-Line number(4) start execution.\n",
      "2025-02-08 21:51:21 +0100   79816 execution.bulk     INFO     Process name(SpawnProcess-2)-Process id(2504)-Line number(4) completed.\n",
      "2025-02-08 21:51:21 +0100   79816 execution.bulk     INFO     Process name(SpawnProcess-2)-Process id(2504)-Line number(5) start execution.\n",
      "2025-02-08 21:51:22 +0100   79816 execution.bulk     INFO     Process name(SpawnProcess-2)-Process id(2504)-Line number(5) completed.\n",
      "2025-02-08 21:51:22 +0100   79816 execution.bulk     INFO     Process name(SpawnProcess-2)-Process id(2504)-Line number(6) start execution.\n",
      "2025-02-08 21:51:24 +0100   79816 execution.bulk     INFO     Process name(SpawnProcess-2)-Process id(2504)-Line number(6) completed.\n",
      "2025-02-08 21:51:24 +0100   79816 execution.bulk     INFO     Process name(SpawnProcess-2)-Process id(2504)-Line number(7) start execution.\n",
      "2025-02-08 21:51:25 +0100   79816 execution.bulk     INFO     Process name(SpawnProcess-4)-Process id(70840)-Line number(2) completed.\n",
      "2025-02-08 21:51:25 +0100   79816 execution.bulk     INFO     Process name(SpawnProcess-4)-Process id(70840)-Line number(8) start execution.\n",
      "2025-02-08 21:51:25 +0100   79816 execution.bulk     INFO     Process name(SpawnProcess-3)-Process id(43552)-Line number(0) completed.\n",
      "2025-02-08 21:51:25 +0100   79816 execution.bulk     INFO     Process name(SpawnProcess-3)-Process id(43552)-Line number(9) start execution.\n",
      "2025-02-08 21:51:25 +0100   79816 execution.bulk     INFO     Process name(SpawnProcess-2)-Process id(2504)-Line number(7) completed.\n",
      "2025-02-08 21:51:25 +0100   79816 execution.bulk     INFO     Process name(SpawnProcess-2)-Process id(2504)-Line number(10) start execution.\n",
      "2025-02-08 21:51:25 +0100   79816 execution.bulk     INFO     Process name(SpawnProcess-5)-Process id(78944)-Line number(3) completed.\n",
      "2025-02-08 21:51:25 +0100   79816 execution.bulk     INFO     Process name(SpawnProcess-5)-Process id(78944)-Line number(11) start execution.\n",
      "2025-02-08 21:51:25 +0100   79816 execution.bulk     INFO     Finished 8 / 50 lines.\n",
      "2025-02-08 21:51:25 +0100   79816 execution.bulk     INFO     Average execution time for completed lines: 1.26 seconds. Estimated time for incomplete lines: 52.92 seconds.\n",
      "2025-02-08 21:51:26 +0100   79816 execution.bulk     INFO     Process name(SpawnProcess-4)-Process id(70840)-Line number(8) completed.\n",
      "2025-02-08 21:51:26 +0100   79816 execution.bulk     INFO     Process name(SpawnProcess-4)-Process id(70840)-Line number(12) start execution.\n",
      "2025-02-08 21:51:26 +0100   79816 execution.bulk     INFO     Process name(SpawnProcess-3)-Process id(43552)-Line number(9) completed.\n",
      "2025-02-08 21:51:26 +0100   79816 execution.bulk     INFO     Process name(SpawnProcess-3)-Process id(43552)-Line number(13) start execution.\n",
      "2025-02-08 21:51:26 +0100   79816 execution.bulk     INFO     Process name(SpawnProcess-2)-Process id(2504)-Line number(10) completed.\n",
      "2025-02-08 21:51:26 +0100   79816 execution.bulk     INFO     Process name(SpawnProcess-2)-Process id(2504)-Line number(14) start execution.\n",
      "2025-02-08 21:51:26 +0100   79816 execution.bulk     INFO     Process name(SpawnProcess-5)-Process id(78944)-Line number(11) completed.\n",
      "2025-02-08 21:51:26 +0100   79816 execution.bulk     INFO     Process name(SpawnProcess-5)-Process id(78944)-Line number(15) start execution.\n",
      "2025-02-08 21:51:27 +0100   79816 execution.bulk     INFO     Process name(SpawnProcess-4)-Process id(70840)-Line number(12) completed.\n",
      "2025-02-08 21:51:27 +0100   79816 execution.bulk     INFO     Process name(SpawnProcess-4)-Process id(70840)-Line number(16) start execution.\n",
      "2025-02-08 21:51:27 +0100   79816 execution.bulk     INFO     Finished 13 / 50 lines.\n",
      "2025-02-08 21:51:27 +0100   79816 execution.bulk     INFO     Average execution time for completed lines: 0.93 seconds. Estimated time for incomplete lines: 34.41 seconds.\n",
      "2025-02-08 21:51:27 +0100   79816 execution.bulk     INFO     Process name(SpawnProcess-5)-Process id(78944)-Line number(15) completed.\n",
      "2025-02-08 21:51:27 +0100   79816 execution.bulk     INFO     Process name(SpawnProcess-5)-Process id(78944)-Line number(17) start execution.\n",
      "2025-02-08 21:51:27 +0100   79816 execution.bulk     INFO     Process name(SpawnProcess-3)-Process id(43552)-Line number(13) completed.\n",
      "2025-02-08 21:51:27 +0100   79816 execution.bulk     INFO     Process name(SpawnProcess-3)-Process id(43552)-Line number(18) start execution.\n",
      "2025-02-08 21:51:28 +0100   79816 execution.bulk     INFO     Process name(SpawnProcess-2)-Process id(2504)-Line number(14) completed.\n",
      "2025-02-08 21:51:28 +0100   79816 execution.bulk     INFO     Process name(SpawnProcess-2)-Process id(2504)-Line number(19) start execution.\n",
      "2025-02-08 21:51:28 +0100   79816 execution.bulk     INFO     Process name(SpawnProcess-4)-Process id(70840)-Line number(16) completed.\n",
      "2025-02-08 21:51:28 +0100   79816 execution.bulk     INFO     Process name(SpawnProcess-4)-Process id(70840)-Line number(20) start execution.\n",
      "2025-02-08 21:51:29 +0100   79816 execution.bulk     INFO     Process name(SpawnProcess-5)-Process id(78944)-Line number(17) completed.\n",
      "2025-02-08 21:51:29 +0100   79816 execution.bulk     INFO     Process name(SpawnProcess-5)-Process id(78944)-Line number(21) start execution.\n",
      "2025-02-08 21:51:29 +0100   79816 execution.bulk     INFO     Process name(SpawnProcess-3)-Process id(43552)-Line number(18) completed.\n",
      "2025-02-08 21:51:29 +0100   79816 execution.bulk     INFO     Process name(SpawnProcess-3)-Process id(43552)-Line number(22) start execution.\n",
      "2025-02-08 21:51:29 +0100   79816 execution.bulk     INFO     Process name(SpawnProcess-2)-Process id(2504)-Line number(19) completed.\n",
      "2025-02-08 21:51:29 +0100   79816 execution.bulk     INFO     Process name(SpawnProcess-2)-Process id(2504)-Line number(23) start execution.\n",
      "2025-02-08 21:51:29 +0100   79816 execution.bulk     INFO     Process name(SpawnProcess-4)-Process id(70840)-Line number(20) completed.\n",
      "2025-02-08 21:51:29 +0100   79816 execution.bulk     INFO     Process name(SpawnProcess-4)-Process id(70840)-Line number(24) start execution.\n",
      "2025-02-08 21:51:29 +0100   79816 execution.bulk     INFO     Finished 21 / 50 lines.\n",
      "2025-02-08 21:51:29 +0100   79816 execution.bulk     INFO     Average execution time for completed lines: 0.67 seconds. Estimated time for incomplete lines: 19.43 seconds.\n",
      "2025-02-08 21:51:30 +0100   79816 execution.bulk     INFO     Process name(SpawnProcess-5)-Process id(78944)-Line number(21) completed.\n",
      "2025-02-08 21:51:30 +0100   79816 execution.bulk     INFO     Process name(SpawnProcess-5)-Process id(78944)-Line number(25) start execution.\n",
      "2025-02-08 21:51:30 +0100   79816 execution.bulk     INFO     Process name(SpawnProcess-3)-Process id(43552)-Line number(22) completed.\n",
      "2025-02-08 21:51:30 +0100   79816 execution.bulk     INFO     Process name(SpawnProcess-3)-Process id(43552)-Line number(26) start execution.\n",
      "2025-02-08 21:51:30 +0100   79816 execution.bulk     INFO     Process name(SpawnProcess-2)-Process id(2504)-Line number(23) completed.\n",
      "2025-02-08 21:51:30 +0100   79816 execution.bulk     INFO     Process name(SpawnProcess-2)-Process id(2504)-Line number(27) start execution.\n",
      "2025-02-08 21:51:30 +0100   79816 execution.bulk     INFO     Process name(SpawnProcess-4)-Process id(70840)-Line number(24) completed.\n",
      "2025-02-08 21:51:30 +0100   79816 execution.bulk     INFO     Process name(SpawnProcess-4)-Process id(70840)-Line number(28) start execution.\n",
      "2025-02-08 21:51:30 +0100   79816 execution.bulk     INFO     Finished 25 / 50 lines.\n",
      "2025-02-08 21:51:30 +0100   79816 execution.bulk     INFO     Average execution time for completed lines: 0.6 seconds. Estimated time for incomplete lines: 15.0 seconds.\n",
      "2025-02-08 21:51:31 +0100   79816 execution.bulk     INFO     Process name(SpawnProcess-5)-Process id(78944)-Line number(25) completed.\n",
      "2025-02-08 21:51:31 +0100   79816 execution.bulk     INFO     Process name(SpawnProcess-5)-Process id(78944)-Line number(29) start execution.\n",
      "2025-02-08 21:51:31 +0100   79816 execution.bulk     INFO     Process name(SpawnProcess-3)-Process id(43552)-Line number(26) completed.\n",
      "2025-02-08 21:51:31 +0100   79816 execution.bulk     INFO     Process name(SpawnProcess-3)-Process id(43552)-Line number(30) start execution.\n",
      "2025-02-08 21:51:31 +0100   79816 execution.bulk     INFO     Process name(SpawnProcess-4)-Process id(70840)-Line number(28) completed.\n",
      "2025-02-08 21:51:31 +0100   79816 execution.bulk     INFO     Process name(SpawnProcess-4)-Process id(70840)-Line number(31) start execution.\n",
      "2025-02-08 21:51:31 +0100   79816 execution.bulk     INFO     Process name(SpawnProcess-2)-Process id(2504)-Line number(27) completed.\n",
      "2025-02-08 21:51:31 +0100   79816 execution.bulk     INFO     Process name(SpawnProcess-2)-Process id(2504)-Line number(32) start execution.\n",
      "2025-02-08 21:51:32 +0100   79816 execution.bulk     INFO     Process name(SpawnProcess-5)-Process id(78944)-Line number(29) completed.\n",
      "2025-02-08 21:51:32 +0100   79816 execution.bulk     INFO     Process name(SpawnProcess-5)-Process id(78944)-Line number(33) start execution.\n",
      "2025-02-08 21:51:32 +0100   79816 execution.bulk     INFO     Process name(SpawnProcess-3)-Process id(43552)-Line number(30) completed.\n",
      "2025-02-08 21:51:32 +0100   79816 execution.bulk     INFO     Process name(SpawnProcess-3)-Process id(43552)-Line number(34) start execution.\n",
      "2025-02-08 21:51:32 +0100   79816 execution.bulk     INFO     Finished 31 / 50 lines.\n",
      "2025-02-08 21:51:32 +0100   79816 execution.bulk     INFO     Average execution time for completed lines: 0.55 seconds. Estimated time for incomplete lines: 10.45 seconds.\n",
      "2025-02-08 21:51:33 +0100   79816 execution.bulk     INFO     Process name(SpawnProcess-4)-Process id(70840)-Line number(31) completed.\n",
      "2025-02-08 21:51:33 +0100   79816 execution.bulk     INFO     Process name(SpawnProcess-4)-Process id(70840)-Line number(35) start execution.\n",
      "2025-02-08 21:51:33 +0100   79816 execution.bulk     INFO     Process name(SpawnProcess-5)-Process id(78944)-Line number(33) completed.\n",
      "2025-02-08 21:51:33 +0100   79816 execution.bulk     INFO     Process name(SpawnProcess-5)-Process id(78944)-Line number(36) start execution.\n",
      "2025-02-08 21:51:33 +0100   79816 execution.bulk     INFO     Process name(SpawnProcess-2)-Process id(2504)-Line number(32) completed.\n",
      "2025-02-08 21:51:33 +0100   79816 execution.bulk     INFO     Process name(SpawnProcess-2)-Process id(2504)-Line number(37) start execution.\n",
      "2025-02-08 21:51:33 +0100   79816 execution.bulk     INFO     Process name(SpawnProcess-3)-Process id(43552)-Line number(34) completed.\n",
      "2025-02-08 21:51:33 +0100   79816 execution.bulk     INFO     Process name(SpawnProcess-3)-Process id(43552)-Line number(38) start execution.\n",
      "2025-02-08 21:51:34 +0100   79816 execution.bulk     INFO     Process name(SpawnProcess-4)-Process id(70840)-Line number(35) completed.\n",
      "2025-02-08 21:51:34 +0100   79816 execution.bulk     INFO     Process name(SpawnProcess-4)-Process id(70840)-Line number(39) start execution.\n",
      "2025-02-08 21:51:34 +0100   79816 execution.bulk     INFO     Process name(SpawnProcess-5)-Process id(78944)-Line number(36) completed.\n",
      "2025-02-08 21:51:34 +0100   79816 execution.bulk     INFO     Process name(SpawnProcess-5)-Process id(78944)-Line number(40) start execution.\n",
      "2025-02-08 21:51:34 +0100   79816 execution.bulk     INFO     Process name(SpawnProcess-2)-Process id(2504)-Line number(37) completed.\n",
      "2025-02-08 21:51:34 +0100   79816 execution.bulk     INFO     Process name(SpawnProcess-2)-Process id(2504)-Line number(41) start execution.\n",
      "2025-02-08 21:51:34 +0100   79816 execution.bulk     INFO     Finished 38 / 50 lines.\n",
      "2025-02-08 21:51:34 +0100   79816 execution.bulk     INFO     Average execution time for completed lines: 0.5 seconds. Estimated time for incomplete lines: 6.0 seconds.\n",
      "2025-02-08 21:51:34 +0100   79816 execution.bulk     INFO     Process name(SpawnProcess-3)-Process id(43552)-Line number(38) completed.\n",
      "2025-02-08 21:51:34 +0100   79816 execution.bulk     INFO     Process name(SpawnProcess-3)-Process id(43552)-Line number(42) start execution.\n",
      "2025-02-08 21:51:35 +0100   79816 execution.bulk     INFO     Process name(SpawnProcess-4)-Process id(70840)-Line number(39) completed.\n",
      "2025-02-08 21:51:35 +0100   79816 execution.bulk     INFO     Process name(SpawnProcess-4)-Process id(70840)-Line number(43) start execution.\n",
      "2025-02-08 21:51:35 +0100   79816 execution.bulk     INFO     Process name(SpawnProcess-5)-Process id(78944)-Line number(40) completed.\n",
      "2025-02-08 21:51:35 +0100   79816 execution.bulk     INFO     Process name(SpawnProcess-5)-Process id(78944)-Line number(44) start execution.\n",
      "2025-02-08 21:51:36 +0100   79816 execution.bulk     INFO     Process name(SpawnProcess-2)-Process id(2504)-Line number(41) completed.\n",
      "2025-02-08 21:51:36 +0100   79816 execution.bulk     INFO     Process name(SpawnProcess-2)-Process id(2504)-Line number(45) start execution.\n",
      "2025-02-08 21:51:36 +0100   79816 execution.bulk     INFO     Process name(SpawnProcess-3)-Process id(43552)-Line number(42) completed.\n",
      "2025-02-08 21:51:36 +0100   79816 execution.bulk     INFO     Process name(SpawnProcess-3)-Process id(43552)-Line number(46) start execution.\n",
      "2025-02-08 21:51:36 +0100   79816 execution.bulk     INFO     Process name(SpawnProcess-4)-Process id(70840)-Line number(43) completed.\n",
      "2025-02-08 21:51:36 +0100   79816 execution.bulk     INFO     Process name(SpawnProcess-4)-Process id(70840)-Line number(47) start execution.\n",
      "2025-02-08 21:51:36 +0100   79816 execution.bulk     INFO     Finished 44 / 50 lines.\n",
      "2025-02-08 21:51:36 +0100   79816 execution.bulk     INFO     Average execution time for completed lines: 0.48 seconds. Estimated time for incomplete lines: 2.88 seconds.\n",
      "2025-02-08 21:51:37 +0100   79816 execution.bulk     INFO     Process name(SpawnProcess-5)-Process id(78944)-Line number(44) completed.\n",
      "2025-02-08 21:51:37 +0100   79816 execution.bulk     INFO     Process name(SpawnProcess-5)-Process id(78944)-Line number(48) start execution.\n",
      "2025-02-08 21:51:37 +0100   79816 execution.bulk     INFO     Process name(SpawnProcess-2)-Process id(2504)-Line number(45) completed.\n",
      "2025-02-08 21:51:37 +0100   79816 execution.bulk     INFO     Process name(SpawnProcess-2)-Process id(2504)-Line number(49) start execution.\n",
      "2025-02-08 21:51:37 +0100   79816 execution.bulk     INFO     Process name(SpawnProcess-3)-Process id(43552)-Line number(46) completed.\n",
      "2025-02-08 21:51:37 +0100   79816 execution.bulk     INFO     Process name(SpawnProcess-4)-Process id(70840)-Line number(47) completed.\n",
      "2025-02-08 21:51:38 +0100   79816 execution.bulk     INFO     Process name(SpawnProcess-2)-Process id(2504)-Line number(49) completed.\n",
      "2025-02-08 21:51:38 +0100   79816 execution.bulk     INFO     Process name(SpawnProcess-5)-Process id(78944)-Line number(48) completed.\n",
      "2025-02-08 21:51:38 +0100   79816 execution.bulk     INFO     Finished 50 / 50 lines.\n",
      "2025-02-08 21:51:38 +0100   79816 execution.bulk     INFO     Average execution time for completed lines: 0.46 seconds. Estimated time for incomplete lines: 0.0 seconds.\n",
      "2025-02-08 21:51:38 +0100   79816 execution.bulk     INFO     The thread monitoring the process [2504-SpawnProcess-2] will be terminated.\n",
      "2025-02-08 21:51:38 +0100   79816 execution.bulk     INFO     The thread monitoring the process [43552-SpawnProcess-3] will be terminated.\n",
      "2025-02-08 21:51:38 +0100   79816 execution.bulk     INFO     The thread monitoring the process [78944-SpawnProcess-5] will be terminated.\n",
      "2025-02-08 21:51:38 +0100   79816 execution.bulk     INFO     The thread monitoring the process [70840-SpawnProcess-4] will be terminated.\n",
      "2025-02-08 21:51:38 +0100    2504 execution.bulk     INFO     The process [2504] has received a terminate signal.\n",
      "2025-02-08 21:51:38 +0100   43552 execution.bulk     INFO     The process [43552] has received a terminate signal.\n",
      "2025-02-08 21:51:38 +0100   78944 execution.bulk     INFO     The process [78944] has received a terminate signal.\n",
      "2025-02-08 21:51:38 +0100   70840 execution.bulk     INFO     The process [70840] has received a terminate signal.\n",
      "2025-02-08 21:51:39 +0100   79816 execution.bulk     INFO     Process 2504 terminated.\n",
      "2025-02-08 21:51:39 +0100   79816 execution.bulk     INFO     Process 78944 terminated.\n",
      "2025-02-08 21:51:39 +0100   79816 execution.bulk     INFO     Process 70840 terminated.\n",
      "2025-02-08 21:51:39 +0100   79816 execution.bulk     INFO     Process 43552 terminated.\n",
      "======= Run Summary =======\n",
      "\n",
      "Run name: \"evaluators_aoai_custom_groundedness_customgroundednessevaluator_ql67as7j_20250208_215106_870650\"\n",
      "Run status: \"Completed\"\n",
      "Start time: \"2025-02-08 21:51:06.867651+01:00\"\n",
      "Duration: \"0:00:34.004987\"\n",
      "Output path: \"C:\\Users\\povelf\\.promptflow\\.runs\\evaluators_aoai_custom_groundedness_customgroundednessevaluator_ql67as7j_20250208_215106_870650\"\n",
      "\n"
     ]
    },
    {
     "name": "stderr",
     "output_type": "stream",
     "text": [
      "ERROR:azure.monitor.opentelemetry.exporter.export._base:Non-retryable server side error: Operation returned an invalid status 'Bad Request'.\n",
      "ERROR:azure.monitor.opentelemetry.exporter.export._base:Non-retryable server side error: Operation returned an invalid status 'Bad Request'.\n"
     ]
    },
    {
     "name": "stderr",
     "output_type": "stream",
     "text": [
      "ERROR:opencensus.ext.azure.common.transport:Non-retryable server side error 400: {\"itemsReceived\":4,\"itemsAccepted\":0,\"appId\":null,\"errors\":[{\"index\":0,\"statusCode\":400,\"message\":\"Invalid instrumentation key\"},{\"index\":1,\"statusCode\":400,\"message\":\"Invalid instrumentation key\"},{\"index\":2,\"statusCode\":400,\"message\":\"Invalid instrumentation key\"},{\"index\":3,\"statusCode\":400,\"message\":\"Invalid instrumentation key\"}]}.\n",
      "ERROR:opencensus.ext.azure.common.transport:Non-retryable server side error 400: {\"itemsReceived\":3,\"itemsAccepted\":0,\"appId\":null,\"errors\":[{\"index\":0,\"statusCode\":400,\"message\":\"Invalid instrumentation key\"},{\"index\":1,\"statusCode\":400,\"message\":\"Invalid instrumentation key\"},{\"index\":2,\"statusCode\":400,\"message\":\"Invalid instrumentation key\"}]}.\n"
     ]
    },
    {
     "name": "stdout",
     "output_type": "stream",
     "text": [
      "======= Combined Run Summary (Per Evaluator) =======\n",
      "\n",
      "{\n",
      "    \"custom_groundedness_0_1\": {\n",
      "        \"status\": \"Completed\",\n",
      "        \"duration\": \"0:00:34.004987\",\n",
      "        \"completed_lines\": 50,\n",
      "        \"failed_lines\": 0,\n",
      "        \"log_path\": \"C:\\\\Users\\\\povelf\\\\.promptflow\\\\.runs\\\\evaluators_aoai_custom_groundedness_customgroundednessevaluator_ql67as7j_20250208_215106_870650\"\n",
      "    }\n",
      "}\n",
      "\n",
      "====================================================\n",
      "\n",
      "Evaluation results saved to \"C:\\Users\\povelf\\OneDrive - Microsoft\\Povel @ MSFT\\EXTERNAL\\Customers\\Sandvik\\demo-sdvk\\evaluation\\myevalresults.json\".\n",
      "\n"
     ]
    },
    {
     "name": "stderr",
     "output_type": "stream",
     "text": [
      "ERROR:opencensus.ext.azure.common.transport:Non-retryable server side error 400: {\"itemsReceived\":2,\"itemsAccepted\":0,\"appId\":null,\"errors\":[{\"index\":0,\"statusCode\":400,\"message\":\"Invalid instrumentation key\"},{\"index\":1,\"statusCode\":400,\"message\":\"Invalid instrumentation key\"}]}.\n"
     ]
    }
   ],
   "source": [
    "from evaluators.aoai.custom_groundedness import CustomGroundednessEvaluator\n",
    "\n",
    "# Load Azure AI project and model configuration\n",
    "azure_ai_project, model_config, credential = load_config(eval_model=llm_judge)\n",
    "\n",
    "# Custom evaluator for groundedness\n",
    "custom_groundedness = CustomGroundednessEvaluator(model_config)\n",
    "\n",
    "# Run evaluation\n",
    "model_name = model_config[\"azure_deployment\"]\n",
    "run_eval_on_azure(azure_ai_project, custom_groundedness, model_name, jsonl_path)"
   ]
  },
  {
   "cell_type": "code",
   "execution_count": null,
   "metadata": {},
   "outputs": [],
   "source": []
  },
  {
   "cell_type": "code",
   "execution_count": null,
   "metadata": {},
   "outputs": [],
   "source": []
  },
  {
   "cell_type": "code",
   "execution_count": null,
   "metadata": {},
   "outputs": [],
   "source": []
  },
  {
   "cell_type": "code",
   "execution_count": null,
   "metadata": {},
   "outputs": [],
   "source": []
  },
  {
   "cell_type": "code",
   "execution_count": null,
   "metadata": {},
   "outputs": [],
   "source": []
  },
  {
   "cell_type": "code",
   "execution_count": null,
   "metadata": {},
   "outputs": [],
   "source": []
  }
 ],
 "metadata": {
  "kernelspec": {
   "display_name": "povel",
   "language": "python",
   "name": "python3"
  },
  "language_info": {
   "codemirror_mode": {
    "name": "ipython",
    "version": 3
   },
   "file_extension": ".py",
   "mimetype": "text/x-python",
   "name": "python",
   "nbconvert_exporter": "python",
   "pygments_lexer": "ipython3",
   "version": "3.12.4"
  }
 },
 "nbformat": 4,
 "nbformat_minor": 2
}
