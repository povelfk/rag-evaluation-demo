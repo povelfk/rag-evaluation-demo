{
 "cells": [
  {
   "cell_type": "markdown",
   "metadata": {},
   "source": [
    "# **Train LLM Judge FT**\n",
    "\n",
    "In this notebook, we focus on **training the LLM Judge using fine-tuning (FT)**. This involves importing the required libraries, reading the training and validation data, creating the fine-tuning model, submitting the fine-tuning job, tracking the job status, and deploying the fine-tuned model.\n",
    "\n",
    "### Objectives:\n",
    "- **Import Libraries:** Import the necessary libraries for fine-tuning and evaluation.\n",
    "- **Read Data:** Read the training and validation data from JSON Lines files.\n",
    "- **Create Fine-Tuning Model:** Create the fine-tuning model using Azure OpenAI.\n",
    "- **Submit Fine-Tuning Job:** Submit the fine-tuning job to Azure OpenAI.\n",
    "- **Track Job Status:** Track the status of the fine-tuning job.\n",
    "- **Deploy Model:** Deploy the fine-tuned model for inference.\n",
    "- **Test Inference:** Test the deployed model to ensure it works as expected.\n",
    "\n",
    "### Key Steps:\n",
    "1. **Import Libraries:** Import the necessary libraries for fine-tuning and evaluation.\n",
    "2. **Read Data:** Read the training and validation data from JSON Lines files.\n",
    "3. **Create Fine-Tuning Model:** Create the fine-tuning model using Azure OpenAI.\n",
    "4. **Submit Fine-Tuning Job:** Submit the fine-tuning job to Azure OpenAI.\n",
    "5. **Track Job Status:** Track the status of the fine-tuning job.\n",
    "6. **Deploy Model:** Deploy the fine-tuned model for inference.\n",
    "7. **Test Inference:** Test the deployed model to ensure it works as expected.\n",
    "\n",
    "This notebook ensures that the LLM Judge is trained, fine-tuned, and deployed effectively, providing insights into its performance and areas for improvement."
   ]
  },
  {
   "cell_type": "markdown",
   "metadata": {},
   "source": [
    "### **Import Required Libraries**"
   ]
  },
  {
   "cell_type": "code",
   "execution_count": 1,
   "metadata": {},
   "outputs": [],
   "source": [
    "# !pip install azure-ai-evaluation"
   ]
  },
  {
   "cell_type": "code",
   "execution_count": null,
   "metadata": {},
   "outputs": [
    {
     "data": {
      "text/plain": [
       "True"
      ]
     },
     "execution_count": 2,
     "metadata": {},
     "output_type": "execute_result"
    }
   ],
   "source": [
    "import json\n",
    "import os\n",
    "import datetime\n",
    "\n",
    "import pandas as pd\n",
    "\n",
    "from azure.identity import DefaultAzureCredential, get_bearer_token_provider\n",
    "from openai import AzureOpenAI\n",
    "\n",
    "import dotenv\n",
    "dotenv.load_dotenv(\".env\")"
   ]
  },
  {
   "cell_type": "markdown",
   "metadata": {},
   "source": [
    "### **Read training and validation data**"
   ]
  },
  {
   "cell_type": "code",
   "execution_count": 3,
   "metadata": {},
   "outputs": [],
   "source": [
    "def read_jsonl(file_path):\n",
    "    data = []\n",
    "    with open(file_path, 'r') as f:\n",
    "        for line in f:\n",
    "            data.append(json.loads(line))\n",
    "    return data"
   ]
  },
  {
   "cell_type": "code",
   "execution_count": 4,
   "metadata": {},
   "outputs": [],
   "source": [
    "train_path = 'data/ft-judge/single/train.jsonl'\n",
    "val_path = 'data/ft-judge/single/val.jsonl'\n",
    "\n",
    "# Example usage:\n",
    "train_data = read_jsonl(train_path)\n",
    "val_data = read_jsonl(val_path)"
   ]
  },
  {
   "cell_type": "markdown",
   "metadata": {},
   "source": [
    "### **Create FT Model**"
   ]
  },
  {
   "cell_type": "markdown",
   "metadata": {},
   "source": [
    "**Upload data to Data Files in Azure OpenAI Studio**"
   ]
  },
  {
   "cell_type": "code",
   "execution_count": 5,
   "metadata": {},
   "outputs": [],
   "source": [
    "client = AzureOpenAI(\n",
    "  azure_endpoint = os.getenv(\"AZURE_OPENAI_API_BASE\"),\n",
    "  api_key = os.getenv(\"AZURE_OPENAI_API_KEY\"),\n",
    "  api_version = os.getenv(\"AZURE_OPENAI_API_VERSION\")  # 2024-08-01-preview API version or later is required to access seed/events/checkpoint features\n",
    ")"
   ]
  },
  {
   "cell_type": "code",
   "execution_count": 6,
   "metadata": {},
   "outputs": [
    {
     "name": "stdout",
     "output_type": "stream",
     "text": [
      "Training file ID: file-1092e1e3e80342b388ab41c4f12cb1d9\n",
      "Validation file ID: file-be1e0d5755664ce58abff11152710118\n"
     ]
    }
   ],
   "source": [
    "# Upload the training and validation dataset files to Azure OpenAI with the SDK.\n",
    "training_response = client.files.create(\n",
    "    file = open(train_path, \"rb\"), purpose=\"fine-tune\"\n",
    ")\n",
    "training_file_id = training_response.id\n",
    "\n",
    "validation_response = client.files.create(\n",
    "    file = open(val_path, \"rb\"), purpose=\"fine-tune\"\n",
    ")\n",
    "validation_file_id = validation_response.id\n",
    "\n",
    "print(\"Training file ID:\", training_file_id)\n",
    "print(\"Validation file ID:\", validation_file_id)"
   ]
  },
  {
   "cell_type": "markdown",
   "metadata": {},
   "source": [
    "**Submit fine-tuning job**"
   ]
  },
  {
   "cell_type": "code",
   "execution_count": null,
   "metadata": {},
   "outputs": [
    {
     "name": "stdout",
     "output_type": "stream",
     "text": [
      "Job ID: ftjob-b8bb0ab2fb6b432194e150f916d2905d\n",
      "Status: pending\n",
      "{\n",
      "  \"id\": \"ftjob-b8bb0ab2fb6b432194e150f916d2905d\",\n",
      "  \"created_at\": 1739038750,\n",
      "  \"error\": null,\n",
      "  \"fine_tuned_model\": null,\n",
      "  \"finished_at\": null,\n",
      "  \"hyperparameters\": {\n",
      "    \"batch_size\": 1,\n",
      "    \"learning_rate_multiplier\": 1.0,\n",
      "    \"n_epochs\": 1\n",
      "  },\n",
      "  \"model\": \"gpt-4o-mini-2024-07-18\",\n",
      "  \"object\": \"fine_tuning.job\",\n",
      "  \"organization_id\": null,\n",
      "  \"result_files\": null,\n",
      "  \"seed\": 23,\n",
      "  \"status\": \"pending\",\n",
      "  \"trained_tokens\": null,\n",
      "  \"training_file\": \"file-1092e1e3e80342b388ab41c4f12cb1d9\",\n",
      "  \"validation_file\": \"file-be1e0d5755664ce58abff11152710118\",\n",
      "  \"estimated_finish\": 1739040744,\n",
      "  \"integrations\": null,\n",
      "  \"method\": null,\n",
      "  \"suffix\": \"sdvk-demo\"\n",
      "}\n"
     ]
    }
   ],
   "source": [
    "# Submit fine-tuning training job\n",
    "response = client.fine_tuning.jobs.create(\n",
    "    training_file = training_file_id,\n",
    "    validation_file = validation_file_id,\n",
    "    model = \"gpt-4o-mini-2024-07-18\", # Enter base model name. Note that in Azure OpenAI the model name contains dashes and cannot contain dot/period characters.\n",
    "    seed = 23,\n",
    "    suffix = \"demo\",\n",
    "    hyperparameters = {\n",
    "        \"batch_size\": 1,\n",
    "        \"learning_rate_multiplier\": 1.0,\n",
    "        \"n_epochs\": 1    \n",
    "    }\n",
    ")\n",
    "\n",
    "job_id = response.id\n",
    "\n",
    "# You can use the job ID to monitor the status of the fine-tuning job.\n",
    "# The fine-tuning job will take some time to start and complete.\n",
    "\n",
    "print(\"Job ID:\", response.id)\n",
    "print(\"Status:\", response.status)\n",
    "print(response.model_dump_json(indent=2))"
   ]
  },
  {
   "cell_type": "markdown",
   "metadata": {},
   "source": [
    "**Track job**"
   ]
  },
  {
   "cell_type": "code",
   "execution_count": 10,
   "metadata": {},
   "outputs": [
    {
     "name": "stdout",
     "output_type": "stream",
     "text": [
      "Fine-tuning job ftjob-b8bb0ab2fb6b432194e150f916d2905d finished with status: succeeded\n",
      "Checking other fine-tune jobs for this resource.\n",
      "Found 6 fine-tune jobs.\n"
     ]
    }
   ],
   "source": [
    "# Track training status\n",
    "\n",
    "from IPython.display import clear_output\n",
    "import time\n",
    "\n",
    "start_time = time.time()\n",
    "\n",
    "# Get the status of our fine-tuning job.\n",
    "response = client.fine_tuning.jobs.retrieve(job_id)\n",
    "\n",
    "status = response.status\n",
    "\n",
    "# If the job isn't done yet, poll it every 10 seconds.\n",
    "while status not in [\"succeeded\", \"failed\"]:\n",
    "    time.sleep(10)\n",
    "\n",
    "    response = client.fine_tuning.jobs.retrieve(job_id)\n",
    "    print(response.model_dump_json(indent=2))\n",
    "    print(\"Elapsed time: {} minutes {} seconds\".format(int((time.time() - start_time) // 60), int((time.time() - start_time) % 60)))\n",
    "    status = response.status\n",
    "    print(f'Status: {status}')\n",
    "    clear_output(wait=True)\n",
    "\n",
    "print(f'Fine-tuning job {job_id} finished with status: {status}')\n",
    "\n",
    "# List all fine-tuning jobs for this resource.\n",
    "print('Checking other fine-tune jobs for this resource.')\n",
    "response = client.fine_tuning.jobs.list()\n",
    "print(f'Found {len(response.data)} fine-tune jobs.')"
   ]
  },
  {
   "cell_type": "markdown",
   "metadata": {},
   "source": [
    "**List fine-tuning events**"
   ]
  },
  {
   "cell_type": "code",
   "execution_count": 11,
   "metadata": {},
   "outputs": [
    {
     "name": "stdout",
     "output_type": "stream",
     "text": [
      "{\n",
      "  \"data\": [\n",
      "    {\n",
      "      \"id\": \"ftevent-9f0742d7b5d947d698185405c8ae6aaa\",\n",
      "      \"created_at\": 1739043423,\n",
      "      \"level\": \"info\",\n",
      "      \"message\": \"Training tokens billed: 1686000\",\n",
      "      \"object\": \"fine_tuning.job.event\",\n",
      "      \"data\": null,\n",
      "      \"type\": \"message\"\n",
      "    },\n",
      "    {\n",
      "      \"id\": \"ftevent-5e79f80953304262a1883733f6522bef\",\n",
      "      \"created_at\": 1739043423,\n",
      "      \"level\": \"info\",\n",
      "      \"message\": \"Model Evaluation Passed.\",\n",
      "      \"object\": \"fine_tuning.job.event\",\n",
      "      \"data\": null,\n",
      "      \"type\": \"message\"\n",
      "    },\n",
      "    {\n",
      "      \"id\": \"ftevent-3040b6e4ab95450aa49b2edff5f660cb\",\n",
      "      \"created_at\": 1739043423,\n",
      "      \"level\": \"info\",\n",
      "      \"message\": \"Completed results file: file-1723b618431d4226a7cd2f74fa59d5a8\",\n",
      "      \"object\": \"fine_tuning.job.event\",\n",
      "      \"data\": null,\n",
      "      \"type\": \"message\"\n",
      "    },\n",
      "    {\n",
      "      \"id\": \"ftevent-d07c34c9d2284c99bc8376f823d41f9b\",\n",
      "      \"created_at\": 1739043318,\n",
      "      \"level\": \"info\",\n",
      "      \"message\": \"Job succeeded.\",\n",
      "      \"object\": \"fine_tuning.job.event\",\n",
      "      \"data\": null,\n",
      "      \"type\": \"message\"\n",
      "    },\n",
      "    {\n",
      "      \"id\": \"ftevent-808dd48745f5fd2808dd48745f5fd280\",\n",
      "      \"created_at\": 1739041881,\n",
      "      \"level\": \"info\",\n",
      "      \"message\": \"Step 1756: training loss=0.24323470890522003\",\n",
      "      \"object\": \"fine_tuning.job.event\",\n",
      "      \"data\": {\n",
      "        \"step\": 1756,\n",
      "        \"train_loss\": 0.24323470890522003,\n",
      "        \"train_mean_token_accuracy\": 0.8928571343421936,\n",
      "        \"valid_loss\": 0.6316952359849128,\n",
      "        \"valid_mean_token_accuracy\": 0.8260869565217391,\n",
      "        \"full_valid_loss\": 0.4858631105015611,\n",
      "        \"full_valid_mean_token_accuracy\": 0.6069046225863077\n",
      "      },\n",
      "      \"type\": \"metrics\"\n",
      "    },\n",
      "    {\n",
      "      \"id\": \"ftevent-808dd48745bcc4b808dd48745bcc4b80\",\n",
      "      \"created_at\": 1739041875,\n",
      "      \"level\": \"info\",\n",
      "      \"message\": \"Step 1750: training loss=0.4991960823535919\",\n",
      "      \"object\": \"fine_tuning.job.event\",\n",
      "      \"data\": {\n",
      "        \"step\": 1750,\n",
      "        \"train_loss\": 0.4991960823535919,\n",
      "        \"train_mean_token_accuracy\": 0.8243243098258972,\n",
      "        \"valid_loss\": 0.4882705494508905,\n",
      "        \"valid_mean_token_accuracy\": 0.847457627118644\n",
      "      },\n",
      "      \"type\": \"metrics\"\n",
      "    },\n",
      "    {\n",
      "      \"id\": \"ftevent-808dd487455d66a808dd487455d66a80\",\n",
      "      \"created_at\": 1739041865,\n",
      "      \"level\": \"info\",\n",
      "      \"message\": \"Step 1740: training loss=0.4104163646697998\",\n",
      "      \"object\": \"fine_tuning.job.event\",\n",
      "      \"data\": {\n",
      "        \"step\": 1740,\n",
      "        \"train_loss\": 0.4104163646697998,\n",
      "        \"train_mean_token_accuracy\": 0.8705882430076599,\n",
      "        \"valid_loss\": 0.5673261754653033,\n",
      "        \"valid_mean_token_accuracy\": 0.8235294117647058\n",
      "      },\n",
      "      \"type\": \"metrics\"\n",
      "    },\n",
      "    {\n",
      "      \"id\": \"ftevent-808dd48744fe089808dd48744fe08980\",\n",
      "      \"created_at\": 1739041855,\n",
      "      \"level\": \"info\",\n",
      "      \"message\": \"Step 1730: training loss=0.42722949385643005\",\n",
      "      \"object\": \"fine_tuning.job.event\",\n",
      "      \"data\": {\n",
      "        \"step\": 1730,\n",
      "        \"train_loss\": 0.42722949385643005,\n",
      "        \"train_mean_token_accuracy\": 0.7906976938247681,\n",
      "        \"valid_loss\": 0.4087349573771159,\n",
      "        \"valid_mean_token_accuracy\": 0.8787878787878788\n",
      "      },\n",
      "      \"type\": \"metrics\"\n",
      "    },\n",
      "    {\n",
      "      \"id\": \"ftevent-808dd487449eaa8808dd487449eaa880\",\n",
      "      \"created_at\": 1739041845,\n",
      "      \"level\": \"info\",\n",
      "      \"message\": \"Step 1720: training loss=0.564379870891571\",\n",
      "      \"object\": \"fine_tuning.job.event\",\n",
      "      \"data\": {\n",
      "        \"step\": 1720,\n",
      "        \"train_loss\": 0.564379870891571,\n",
      "        \"train_mean_token_accuracy\": 0.8275862336158752,\n",
      "        \"valid_loss\": 0.6454387923418465,\n",
      "        \"valid_mean_token_accuracy\": 0.7796610169491526\n",
      "      },\n",
      "      \"type\": \"metrics\"\n",
      "    },\n",
      "    {\n",
      "      \"id\": \"ftevent-808dd487443f4c7808dd487443f4c780\",\n",
      "      \"created_at\": 1739041835,\n",
      "      \"level\": \"info\",\n",
      "      \"message\": \"Step 1710: training loss=0.647068977355957\",\n",
      "      \"object\": \"fine_tuning.job.event\",\n",
      "      \"data\": {\n",
      "        \"step\": 1710,\n",
      "        \"train_loss\": 0.647068977355957,\n",
      "        \"train_mean_token_accuracy\": 0.8414633870124817,\n",
      "        \"valid_loss\": 0.4426313568564022,\n",
      "        \"valid_mean_token_accuracy\": 0.8235294117647058\n",
      "      },\n",
      "      \"type\": \"metrics\"\n",
      "    }\n",
      "  ],\n",
      "  \"has_more\": true,\n",
      "  \"object\": \"list\"\n",
      "}\n"
     ]
    }
   ],
   "source": [
    "response = client.fine_tuning.jobs.list_events(fine_tuning_job_id=job_id, limit=10)\n",
    "print(response.model_dump_json(indent=2))"
   ]
  },
  {
   "cell_type": "markdown",
   "metadata": {},
   "source": [
    "**List checkpoints**\n",
    "\n",
    "Each epoch creates a checkpoint"
   ]
  },
  {
   "cell_type": "code",
   "execution_count": 12,
   "metadata": {},
   "outputs": [
    {
     "name": "stdout",
     "output_type": "stream",
     "text": [
      "{\n",
      "  \"data\": [\n",
      "    {\n",
      "      \"id\": \"ftchkpt-487c4ece012c4c7fb5261cdea74b845b\",\n",
      "      \"created_at\": 1739042993,\n",
      "      \"fine_tuned_model_checkpoint\": \"gpt-4o-mini-2024-07-18.ft-b8bb0ab2fb6b432194e150f916d2905d-sdvk-demo\",\n",
      "      \"fine_tuning_job_id\": \"ftjob-b8bb0ab2fb6b432194e150f916d2905d\",\n",
      "      \"metrics\": {\n",
      "        \"full_valid_loss\": 0.4858631105015611,\n",
      "        \"full_valid_mean_token_accuracy\": 0.6069046225863077,\n",
      "        \"step\": 1756.0,\n",
      "        \"train_loss\": 0.24323470890522003,\n",
      "        \"train_mean_token_accuracy\": 0.8928571343421936,\n",
      "        \"valid_loss\": 0.6316952359849128,\n",
      "        \"valid_mean_token_accuracy\": 0.8260869565217391\n",
      "      },\n",
      "      \"object\": \"fine_tuning.job.checkpoint\",\n",
      "      \"step_number\": 1756\n",
      "    }\n",
      "  ],\n",
      "  \"has_more\": false,\n",
      "  \"object\": \"list\"\n",
      "}\n"
     ]
    }
   ],
   "source": [
    "response = client.fine_tuning.jobs.checkpoints.list(job_id)\n",
    "print(response.model_dump_json(indent=2))"
   ]
  },
  {
   "cell_type": "markdown",
   "metadata": {},
   "source": [
    "**Retrieve final training results**"
   ]
  },
  {
   "cell_type": "code",
   "execution_count": 13,
   "metadata": {},
   "outputs": [
    {
     "name": "stdout",
     "output_type": "stream",
     "text": [
      "{\n",
      "  \"id\": \"ftjob-b8bb0ab2fb6b432194e150f916d2905d\",\n",
      "  \"created_at\": 1739038750,\n",
      "  \"error\": null,\n",
      "  \"fine_tuned_model\": \"gpt-4o-mini-2024-07-18.ft-b8bb0ab2fb6b432194e150f916d2905d-sdvk-demo\",\n",
      "  \"finished_at\": 1739043423,\n",
      "  \"hyperparameters\": {\n",
      "    \"batch_size\": 1,\n",
      "    \"learning_rate_multiplier\": 1.0,\n",
      "    \"n_epochs\": 1\n",
      "  },\n",
      "  \"model\": \"gpt-4o-mini-2024-07-18\",\n",
      "  \"object\": \"fine_tuning.job\",\n",
      "  \"organization_id\": null,\n",
      "  \"result_files\": [\n",
      "    \"file-1723b618431d4226a7cd2f74fa59d5a8\"\n",
      "  ],\n",
      "  \"seed\": 23,\n",
      "  \"status\": \"succeeded\",\n",
      "  \"trained_tokens\": 2144668,\n",
      "  \"training_file\": \"file-1092e1e3e80342b388ab41c4f12cb1d9\",\n",
      "  \"validation_file\": \"file-be1e0d5755664ce58abff11152710118\",\n",
      "  \"estimated_finish\": 1739040744,\n",
      "  \"integrations\": null,\n",
      "  \"method\": null,\n",
      "  \"suffix\": \"sdvk-demo\"\n",
      "}\n"
     ]
    }
   ],
   "source": [
    "# Retrieve fine_tuned_model name\n",
    "\n",
    "response = client.fine_tuning.jobs.retrieve(job_id)\n",
    "\n",
    "print(response.model_dump_json(indent=2))\n",
    "fine_tuned_model = response.fine_tuned_model"
   ]
  },
  {
   "cell_type": "markdown",
   "metadata": {},
   "source": [
    "**Deploy model**"
   ]
  },
  {
   "cell_type": "code",
   "execution_count": null,
   "metadata": {},
   "outputs": [
    {
     "name": "stdout",
     "output_type": "stream",
     "text": [
      "Creating a new deployment...\n",
      "<Response [201]>\n",
      "Created\n",
      "{'id': '/subscriptions/4ce7ad8d-95ed-4652-bd4a-5f2af19d29cb/resourceGroups/rg-povel/providers/Microsoft.CognitiveServices/accounts/aoai-povel/deployments/gpt-4o-mini-2024-07-18-sdvk-demo-3', 'type': 'Microsoft.CognitiveServices/accounts/deployments', 'name': 'gpt-4o-mini-2024-07-18-sdvk-demo-3', 'sku': {'name': 'standard', 'capacity': 1}, 'properties': {'model': {'format': 'OpenAI', 'name': 'gpt-4o-mini-2024-07-18.ft-b8bb0ab2fb6b432194e150f916d2905d-sdvk-demo', 'version': '1'}, 'versionUpgradeOption': 'NoAutoUpgrade', 'capabilities': {'area': 'EUR', 'chatCompletion': 'true', 'jsonObjectResponse': 'true', 'maxContextToken': '128000', 'maxOutputToken': '16384', 'assistants': 'true'}, 'provisioningState': 'Creating', 'rateLimits': [{'key': 'request', 'renewalPeriod': 10, 'count': 1}, {'key': 'token', 'renewalPeriod': 60, 'count': 1000}]}, 'systemData': {'createdBy': 'povelf@microsoft.com', 'createdByType': 'User', 'createdAt': '2025-02-08T19:47:48.0658844Z', 'lastModifiedBy': 'povelf@microsoft.com', 'lastModifiedByType': 'User', 'lastModifiedAt': '2025-02-08T19:47:48.0658844Z'}, 'etag': '\"7d5f6366-1214-4c25-b3b3-a7420acb3286\"'}\n"
     ]
    }
   ],
   "source": [
    "# Deploy fine-tuned model\n",
    "\n",
    "import json\n",
    "import requests\n",
    "\n",
    "token_credential = DefaultAzureCredential()\n",
    "token = token_credential.get_token('https://management.azure.com/.default')\n",
    "\n",
    "\n",
    "# token = os.getenv(\"TEMP_AUTH_TOKEN\")\n",
    "subscription = os.getenv(\"SUB_ID\")\n",
    "resource_group = os.getenv(\"RG_NAME\")\n",
    "resource_name = \"aoai-povel\"\n",
    "model_deployment_name = \"gpt-4o-mini-judge\" # the deployment name of your llm judge \n",
    "\n",
    "deploy_params = {'api-version': \"2023-05-01\"}\n",
    "deploy_headers = {'Authorization': 'Bearer {}'.format(token.token), 'Content-Type': 'application/json'}\n",
    "\n",
    "deploy_data = {\n",
    "    \"sku\": {\"name\": \"standard\", \"capacity\": 1},\n",
    "    \"properties\": {\n",
    "        \"model\": {\n",
    "            \"format\": \"OpenAI\",\n",
    "            \"name\": fine_tuned_model, #retrieve this value from the previous call, it will look like gpt-4o-mini-2024-07-18.ft-0e208cf33a6a466994aff31a08aba678\n",
    "            \"version\": \"1\"\n",
    "        }\n",
    "    }\n",
    "}\n",
    "deploy_data = json.dumps(deploy_data)\n",
    "\n",
    "request_url = f'https://management.azure.com/subscriptions/{subscription}/resourceGroups/{resource_group}/providers/Microsoft.CognitiveServices/accounts/{resource_name}/deployments/{model_deployment_name}'\n",
    "\n",
    "print('Creating a new deployment...')\n",
    "\n",
    "r = requests.put(request_url, params=deploy_params, headers=deploy_headers, data=deploy_data)\n",
    "\n",
    "print(r)\n",
    "print(r.reason)\n",
    "print(r.json())"
   ]
  },
  {
   "cell_type": "markdown",
   "metadata": {},
   "source": [
    "**Test inference**"
   ]
  },
  {
   "cell_type": "code",
   "execution_count": 17,
   "metadata": {},
   "outputs": [
    {
     "data": {
      "text/plain": [
       "'The capital of France is Paris.'"
      ]
     },
     "execution_count": 17,
     "metadata": {},
     "output_type": "execute_result"
    }
   ],
   "source": [
    "client = AzureOpenAI(\n",
    "    azure_endpoint = os.getenv(\"AZURE_OPENAI_API_BASE\"),\n",
    "    api_key = os.getenv(\"AZURE_OPENAI_API_KEY\"),\n",
    "    api_version = os.getenv(\"AZURE_OPENAI_API_VERSION\")\n",
    ")\n",
    "\n",
    "response = client.chat.completions.create(\n",
    "    model = model_deployment_name,\n",
    "    messages = [\n",
    "        {\"role\": \"system\", \"content\": \"You are an AI assistant helping a student with their homework.\"},\n",
    "        {\"role\": \"user\", \"content\": \"What is the capital of France?\"}\n",
    "    ] \n",
    ")\n",
    "\n",
    "response.choices[0].message.content"
   ]
  },
  {
   "cell_type": "code",
   "execution_count": null,
   "metadata": {},
   "outputs": [],
   "source": []
  },
  {
   "cell_type": "code",
   "execution_count": null,
   "metadata": {},
   "outputs": [],
   "source": []
  },
  {
   "cell_type": "code",
   "execution_count": null,
   "metadata": {},
   "outputs": [],
   "source": []
  }
 ],
 "metadata": {
  "kernelspec": {
   "display_name": "povel",
   "language": "python",
   "name": "python3"
  },
  "language_info": {
   "codemirror_mode": {
    "name": "ipython",
    "version": 3
   },
   "file_extension": ".py",
   "mimetype": "text/x-python",
   "name": "python",
   "nbconvert_exporter": "python",
   "pygments_lexer": "ipython3",
   "version": "3.12.4"
  }
 },
 "nbformat": 4,
 "nbformat_minor": 2
}
