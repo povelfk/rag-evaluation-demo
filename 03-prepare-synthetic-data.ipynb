{
 "cells": [
  {
   "cell_type": "markdown",
   "metadata": {},
   "source": [
    "# **Prepare Synthetic Data**\n",
    "\n",
    "In this notebook, we focus on **preparing the synthetic dataset** for fine-tuning and evaluation. This involves splitting the data into training, validation, and test sets, and ensuring the data is in the correct format for downstream tasks.\n",
    "\n",
    "### Objectives:\n",
    "- **Data Splitting:** Divide the synthetic data into training, validation, and test sets.\n",
    "- **Data Analysis:** Validate the distribution of grounded vs. not grounded samples in each split.\n",
    "- **Data Formatting:** Prepare the data in the required format for fine-tuning and evaluation.\n",
    "\n",
    "### Key Steps:\n",
    "1. **Read Data:** Load the synthetic data from the JSON Lines file.\n",
    "2. **Create Splits:** Split the data into training, validation, and test sets.\n",
    "3. **Validate Splits:** Ensure the splits have a balanced distribution of grounded vs. not grounded samples.\n",
    "4. **Prepare Fine-Tuning Format:** Convert the data into the format required for fine-tuning.\n",
    "5. **Save Data:** Save the training and validation data in JSON Lines format and the test data in CSV format.\n",
    "\n",
    "This notebook ensures that the synthetic data is well-prepared and formatted for effective fine-tuning and evaluation."
   ]
  },
  {
   "cell_type": "markdown",
   "metadata": {},
   "source": [
    "**Imports**"
   ]
  },
  {
   "cell_type": "code",
   "execution_count": 1,
   "metadata": {},
   "outputs": [
    {
     "name": "stderr",
     "output_type": "stream",
     "text": [
      "[nltk_data] Downloading package punkt to\n",
      "[nltk_data]     C:\\Users\\povelf\\AppData\\Roaming\\nltk_data...\n",
      "[nltk_data]   Package punkt is already up-to-date!\n"
     ]
    },
    {
     "data": {
      "text/plain": [
       "True"
      ]
     },
     "execution_count": 1,
     "metadata": {},
     "output_type": "execute_result"
    }
   ],
   "source": [
    "import json\n",
    "import os\n",
    "import datetime\n",
    "\n",
    "import pandas as pd\n",
    "\n",
    "import matplotlib.pyplot as plt\n",
    "import seaborn as sns\n",
    "\n",
    "plt.style.use('ggplot')\n",
    "sns.set_context(\"talk\")  # Increase font sizes\n",
    "\n",
    "from azure.identity import DefaultAzureCredential, get_bearer_token_provider\n",
    "from openai import AzureOpenAI\n",
    "\n",
    "from utils.sdg_generator_helper import get_instruction\n",
    "\n",
    "import dotenv\n",
    "dotenv.load_dotenv(\".env\")"
   ]
  },
  {
   "cell_type": "markdown",
   "metadata": {},
   "source": [
    "**Read data**"
   ]
  },
  {
   "cell_type": "code",
   "execution_count": 2,
   "metadata": {},
   "outputs": [],
   "source": [
    "path='data/ft-judge/single/chunk-specific-synthetic-questions.jsonl'\n",
    "with open(path, 'r') as f:\n",
    "    data = [json.loads(line) for line in f if line.strip()]"
   ]
  },
  {
   "cell_type": "code",
   "execution_count": 3,
   "metadata": {},
   "outputs": [
    {
     "data": {
      "text/html": [
       "<div>\n",
       "<style scoped>\n",
       "    .dataframe tbody tr th:only-of-type {\n",
       "        vertical-align: middle;\n",
       "    }\n",
       "\n",
       "    .dataframe tbody tr th {\n",
       "        vertical-align: top;\n",
       "    }\n",
       "\n",
       "    .dataframe thead th {\n",
       "        text-align: right;\n",
       "    }\n",
       "</style>\n",
       "<table border=\"1\" class=\"dataframe\">\n",
       "  <thead>\n",
       "    <tr style=\"text-align: right;\">\n",
       "      <th></th>\n",
       "      <th>synthetic_question</th>\n",
       "      <th>explanation</th>\n",
       "      <th>synthetic_response</th>\n",
       "      <th>chunk_id</th>\n",
       "      <th>is_grounded</th>\n",
       "      <th>chunk_data</th>\n",
       "      <th>aggregated_context</th>\n",
       "      <th>domain</th>\n",
       "      <th>difficulty</th>\n",
       "      <th>tone</th>\n",
       "      <th>language</th>\n",
       "      <th>question_length</th>\n",
       "      <th>synthetic_embedding</th>\n",
       "    </tr>\n",
       "  </thead>\n",
       "  <tbody>\n",
       "    <tr>\n",
       "      <th>0</th>\n",
       "      <td>What is the price of the SummitClimber Backpac...</td>\n",
       "      <td>The provided chunk contains detailed informati...</td>\n",
       "      <td>The SummitClimber Backpack purchased by David ...</td>\n",
       "      <td>252167c94bb6_aHR0cHM6Ly9zdG9yYWdlcG92ZWwuYmxvY...</td>\n",
       "      <td>True</td>\n",
       "      <td>## Customer_Info\\n\\nFirst Name: David \\nLast N...</td>\n",
       "      <td>single chunk was used</td>\n",
       "      <td>Usage instructions</td>\n",
       "      <td>Beginner</td>\n",
       "      <td>Neutral</td>\n",
       "      <td>English</td>\n",
       "      <td>14</td>\n",
       "      <td>[-0.009115601889789104, 0.02129325643181801, -...</td>\n",
       "    </tr>\n",
       "  </tbody>\n",
       "</table>\n",
       "</div>"
      ],
      "text/plain": [
       "                                  synthetic_question  \\\n",
       "0  What is the price of the SummitClimber Backpac...   \n",
       "\n",
       "                                         explanation  \\\n",
       "0  The provided chunk contains detailed informati...   \n",
       "\n",
       "                                  synthetic_response  \\\n",
       "0  The SummitClimber Backpack purchased by David ...   \n",
       "\n",
       "                                            chunk_id  is_grounded  \\\n",
       "0  252167c94bb6_aHR0cHM6Ly9zdG9yYWdlcG92ZWwuYmxvY...         True   \n",
       "\n",
       "                                          chunk_data     aggregated_context  \\\n",
       "0  ## Customer_Info\\n\\nFirst Name: David \\nLast N...  single chunk was used   \n",
       "\n",
       "               domain difficulty     tone language  question_length  \\\n",
       "0  Usage instructions   Beginner  Neutral  English               14   \n",
       "\n",
       "                                 synthetic_embedding  \n",
       "0  [-0.009115601889789104, 0.02129325643181801, -...  "
      ]
     },
     "execution_count": 3,
     "metadata": {},
     "output_type": "execute_result"
    }
   ],
   "source": [
    "# Flatten the data using json_normalize\n",
    "df = pd.json_normalize(data)\n",
    "df = df.drop(columns=['question_number'])\n",
    "\n",
    "df.head(1)"
   ]
  },
  {
   "cell_type": "markdown",
   "metadata": {},
   "source": [
    "**Create splits**"
   ]
  },
  {
   "cell_type": "code",
   "execution_count": 4,
   "metadata": {},
   "outputs": [
    {
     "name": "stdout",
     "output_type": "stream",
     "text": [
      "24 3 3\n"
     ]
    }
   ],
   "source": [
    "from sklearn.model_selection import train_test_split\n",
    "\n",
    "# Split the dataset into training, validation, and testing sets:\n",
    "#   - Training set: 78% of the data\n",
    "#   - Validation set: 10% of the data\n",
    "#   - Testing set: 10% of the data\n",
    "\n",
    "train, temp = train_test_split(df, test_size=0.20, random_state=23)\n",
    "val, test = train_test_split(temp, test_size=0.5, random_state=23)\n",
    "print(len(train), len(val), len(test))"
   ]
  },
  {
   "cell_type": "markdown",
   "metadata": {},
   "source": [
    "**validating grounded vs not grounded ratio for each dataset**"
   ]
  },
  {
   "cell_type": "code",
   "execution_count": 5,
   "metadata": {},
   "outputs": [
    {
     "data": {
      "image/png": "[encoded data removed]",
      "text/plain": [
       "<Figure size 2000x1000 with 3 Axes>"
      ]
     },
     "metadata": {},
     "output_type": "display_data"
    }
   ],
   "source": [
    "splits = [train, val, test]\n",
    "\n",
    "# Plot the distributions for each split\n",
    "plt.figure(figsize=(20, 10))\n",
    "\n",
    "# Plot Category counts for each split\n",
    "for i, df_split in enumerate(splits):\n",
    "    plt.subplot(2, 3, i + 1)\n",
    "    category_counts_split = df_split['is_grounded'].value_counts()\n",
    "    category_counts_split.plot(kind='bar')\n",
    "    plt.xlabel('is_grounded')\n",
    "    plt.ylabel('Count')\n",
    "    plt.title(f'Split {i + 1} - is_grounded')\n",
    "\n",
    "# Show the plots\n",
    "plt.tight_layout()\n",
    "plt.show()"
   ]
  },
  {
   "cell_type": "markdown",
   "metadata": {},
   "source": [
    "**Prepare fine-tuning format and write to file**"
   ]
  },
  {
   "cell_type": "code",
   "execution_count": null,
   "metadata": {},
   "outputs": [],
   "source": [
    "import json\n",
    "import pandas as pd\n",
    "\n",
    "def store_fine_tuning_data_from_df(df: pd.DataFrame, file_path: str):\n",
    "    json_objects = []\n",
    "    \n",
    "    for _, row in df.iterrows():\n",
    "        # Construct the user message with the synthetic question and provided chunk data.\n",
    "        user_message = (\n",
    "            f\"QUESTION: {row['synthetic_question']}\\n\"\n",
    "            f\"CHUNK: {row['chunk_data']}\\n\"\n",
    "            f\"RESPONSE: {row['synthetic_response']}\"\n",
    "        )\n",
    "        \n",
    "        # Construct the assistant message as a JSON object.\n",
    "        assistant_response = {\n",
    "            \"label\": row[\"is_grounded\"],\n",
    "            \"explanation\": row[\"explanation\"]\n",
    "        }\n",
    "        assistant_message = json.dumps(assistant_response, ensure_ascii=False)\n",
    "        \n",
    "        json_objects.append({\n",
    "            \"messages\": [\n",
    "                {\"role\": \"system\", \"content\": get_instruction(\"configs/prompts/judge/system_message_single_groundedness.txt\")},\n",
    "                {\"role\": \"user\", \"content\": user_message},\n",
    "                {\"role\": \"assistant\", \"content\": assistant_message}\n",
    "            ]\n",
    "        })\n",
    "\n",
    "    # Ensure the directory exists before writing the file.\n",
    "    os.makedirs(os.path.dirname(file_path), exist_ok=True)\n",
    "\n",
    "    # Write the list of JSON objects to a JSON Lines file.\n",
    "    with open(file_path, 'w', encoding='utf8') as file:\n",
    "        for obj in json_objects:\n",
    "            file.write(json.dumps(obj, ensure_ascii=False) + '\\n')\n",
    "    \n",
    "    return json_objects\n"
   ]
  },
  {
   "cell_type": "markdown",
   "metadata": {},
   "source": [
    "**saving train and val to jsonl, test to csv**"
   ]
  },
  {
   "cell_type": "code",
   "execution_count": 7,
   "metadata": {},
   "outputs": [],
   "source": [
    "train_path = 'data/ft-judge/single/train.jsonl'\n",
    "val_path = 'data/ft-judge/single/val.jsonl'\n",
    "test_path_csv = 'data/ft-judge/single/test.csv'"
   ]
  },
  {
   "cell_type": "code",
   "execution_count": 8,
   "metadata": {},
   "outputs": [],
   "source": [
    "json_train = store_fine_tuning_data_from_df(train, train_path)\n",
    "json_val = store_fine_tuning_data_from_df(val, val_path)\n",
    "test.to_csv(test_path_csv, index=False)  # Saves without the index column"
   ]
  },
  {
   "cell_type": "code",
   "execution_count": null,
   "metadata": {},
   "outputs": [],
   "source": []
  },
  {
   "cell_type": "code",
   "execution_count": null,
   "metadata": {},
   "outputs": [],
   "source": []
  },
  {
   "cell_type": "code",
   "execution_count": null,
   "metadata": {},
   "outputs": [],
   "source": []
  },
  {
   "cell_type": "code",
   "execution_count": null,
   "metadata": {},
   "outputs": [],
   "source": []
  }
 ],
 "metadata": {
  "kernelspec": {
   "display_name": "sandvik-eval",
   "language": "python",
   "name": "python3"
  },
  "language_info": {
   "codemirror_mode": {
    "name": "ipython",
    "version": 3
   },
   "file_extension": ".py",
   "mimetype": "text/x-python",
   "name": "python",
   "nbconvert_exporter": "python",
   "pygments_lexer": "ipython3",
   "version": "3.11.0"
  }
 },
 "nbformat": 4,
 "nbformat_minor": 2
}
